{
  "nbformat": 4,
  "nbformat_minor": 0,
  "metadata": {
    "colab": {
      "provenance": [],
      "include_colab_link": true
    },
    "kernelspec": {
      "name": "python3",
      "display_name": "Python 3"
    },
    "language_info": {
      "name": "python"
    }
  },
  "cells": [
    {
      "cell_type": "markdown",
      "metadata": {
        "id": "view-in-github",
        "colab_type": "text"
      },
      "source": [
        "<a href=\"https://colab.research.google.com/github/vaibhavvesmaker/Spotfire/blob/main/Spotifier_Final.ipynb\" target=\"_parent\"><img src=\"https://colab.research.google.com/assets/colab-badge.svg\" alt=\"Open In Colab\"/></a>"
      ]
    },
    {
      "cell_type": "code",
      "source": [
        "from google.colab import drive\n",
        "drive.mount('/content/drive')"
      ],
      "metadata": {
        "id": "P5Mvb24MzMP1",
        "colab": {
          "base_uri": "https://localhost:8080/"
        },
        "outputId": "c7046606-0584-41b0-df32-fa2b4bfe354a"
      },
      "execution_count": 1,
      "outputs": [
        {
          "output_type": "stream",
          "name": "stdout",
          "text": [
            "Mounted at /content/drive\n"
          ]
        }
      ]
    },
    {
      "cell_type": "code",
      "source": [
        "pip install spotipy"
      ],
      "metadata": {
        "id": "h3HBFam7zSje",
        "colab": {
          "base_uri": "https://localhost:8080/"
        },
        "outputId": "fe6b372c-4d41-449e-9211-e97f8d0ad412"
      },
      "execution_count": 2,
      "outputs": [
        {
          "output_type": "stream",
          "name": "stdout",
          "text": [
            "Collecting spotipy\n",
            "  Downloading spotipy-2.23.0-py3-none-any.whl (29 kB)\n",
            "Collecting redis>=3.5.3 (from spotipy)\n",
            "  Downloading redis-5.0.1-py3-none-any.whl (250 kB)\n",
            "\u001b[2K     \u001b[90m━━━━━━━━━━━━━━━━━━━━━━━━━━━━━━━━━━━━━━━━\u001b[0m \u001b[32m250.3/250.3 kB\u001b[0m \u001b[31m7.5 MB/s\u001b[0m eta \u001b[36m0:00:00\u001b[0m\n",
            "\u001b[?25hRequirement already satisfied: requests>=2.25.0 in /usr/local/lib/python3.10/dist-packages (from spotipy) (2.31.0)\n",
            "Requirement already satisfied: six>=1.15.0 in /usr/local/lib/python3.10/dist-packages (from spotipy) (1.16.0)\n",
            "Requirement already satisfied: urllib3>=1.26.0 in /usr/local/lib/python3.10/dist-packages (from spotipy) (2.0.7)\n",
            "Requirement already satisfied: async-timeout>=4.0.2 in /usr/local/lib/python3.10/dist-packages (from redis>=3.5.3->spotipy) (4.0.3)\n",
            "Requirement already satisfied: charset-normalizer<4,>=2 in /usr/local/lib/python3.10/dist-packages (from requests>=2.25.0->spotipy) (3.3.2)\n",
            "Requirement already satisfied: idna<4,>=2.5 in /usr/local/lib/python3.10/dist-packages (from requests>=2.25.0->spotipy) (3.6)\n",
            "Requirement already satisfied: certifi>=2017.4.17 in /usr/local/lib/python3.10/dist-packages (from requests>=2.25.0->spotipy) (2024.2.2)\n",
            "Installing collected packages: redis, spotipy\n",
            "Successfully installed redis-5.0.1 spotipy-2.23.0\n"
          ]
        }
      ]
    },
    {
      "cell_type": "code",
      "execution_count": 3,
      "metadata": {
        "id": "MvCAJzAizK3D",
        "colab": {
          "base_uri": "https://localhost:8080/"
        },
        "outputId": "f9438e91-b8bb-4416-c8e7-66f79c195dfb"
      },
      "outputs": [
        {
          "output_type": "stream",
          "name": "stdout",
          "text": [
            "Enter the name of the song: perfect\n",
            "   acousticness  danceability  duration_ms  energy  instrumentalness  key  \\\n",
            "0        0.0248         0.667       161250   0.845             0.065    6   \n",
            "\n",
            "   liveness  loudness  mode  speechiness    tempo  time_signature  valence  \n",
            "0     0.466    -6.845     1       0.0812  127.879               4    0.681  \n",
            "You might like this song!\n"
          ]
        }
      ],
      "source": [
        "import spotipy\n",
        "from spotipy.oauth2 import SpotifyClientCredentials\n",
        "import numpy as np\n",
        "import pandas as pd\n",
        "from sklearn.ensemble import RandomForestClassifier\n",
        "from sklearn.model_selection import train_test_split\n",
        "from sklearn.metrics import accuracy_score, precision_score, recall_score, f1_score\n",
        "\n",
        "# Set your Spotify API credentials\n",
        "client_id = 'bbdc86e8622e4543bf8ae1ae18c4e614'\n",
        "client_secret = '0b3cf48a9c6d4f81861cafe3b386a295'\n",
        "\n",
        "# Authenticate with the Spotify API\n",
        "sp = spotipy.Spotify(auth_manager=SpotifyClientCredentials(client_id=client_id, client_secret=client_secret))\n",
        "\n",
        "# Load Spotify dataset\n",
        "spotify_data = pd.read_csv(r\"/content/drive/My Drive/spotify_data.csv\")\n",
        "\n",
        "# Split dataset into features (X) and target variable (Y)\n",
        "X = spotify_data.drop(['target', 'Unnamed: 0', 'song_title', 'artist'], axis=1)\n",
        "Y = spotify_data['target']\n",
        "\n",
        "# Split the data into training and testing sets\n",
        "seed = 42\n",
        "X_train, X_test, y_train, y_test = train_test_split(X, Y, test_size=0.20, shuffle=True, random_state=seed)\n",
        "\n",
        "# Train Random Forest model\n",
        "rf_model = RandomForestClassifier()\n",
        "rf_model.fit(X_train, y_train)\n",
        "\n",
        "\n",
        "# Function to get relevant features of a song by its Spotify name\n",
        "def get_song_features_by_name(song_name):\n",
        "    results = sp.search(q=song_name, type='track', limit=1)\n",
        "\n",
        "    if not results['tracks']['items']:\n",
        "        print(f\"No results found for the song '{song_name}'.\")\n",
        "        return None\n",
        "\n",
        "    track_uri = results['tracks']['items'][0]['uri']\n",
        "    features = sp.audio_features(track_uri)\n",
        "\n",
        "\n",
        "    if not features:\n",
        "        print(f\"No audio features found for the song '{song_name}'.\")\n",
        "        return None\n",
        "\n",
        "    relevant_features = [\n",
        "        features[0]['acousticness'],\n",
        "        features[0]['danceability'],\n",
        "        features[0]['duration_ms'],\n",
        "        features[0]['energy'],\n",
        "        features[0]['instrumentalness'],\n",
        "        features[0]['key'],\n",
        "        features[0]['liveness'],\n",
        "        features[0]['loudness'],\n",
        "        features[0]['mode'],\n",
        "        features[0]['speechiness'],\n",
        "        features[0]['tempo'],\n",
        "        features[0]['time_signature'],\n",
        "        features[0]['valence']\n",
        "    ]\n",
        "\n",
        "    return relevant_features\n",
        "\n",
        "# Take user input for a song name (case-insensitive)\n",
        "song_name = input(\"Enter the name of the song: \").lower()\n",
        "\n",
        "# Get features for the user's song\n",
        "user_song_features = get_song_features_by_name(song_name)\n",
        "\n",
        "if user_song_features:\n",
        "    # Set feature names on the input data\n",
        "    user_song_data = pd.DataFrame([user_song_features], columns=X.columns)\n",
        "\n",
        "    print(user_song_data)\n",
        "\n",
        "    # Make prediction for the user's song\n",
        "    user_prediction = rf_model.predict(user_song_data)\n",
        "\n",
        "    # Display the prediction\n",
        "    if user_prediction[0] == 1:\n",
        "        print(\"You might like this song!\")\n",
        "    else:\n",
        "        print(\"You might not like this song.\")\n"
      ]
    }
  ]
}